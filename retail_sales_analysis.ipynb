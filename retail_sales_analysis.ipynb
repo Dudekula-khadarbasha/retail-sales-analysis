{
 "cells": [
  {
   "cell_type": "markdown",
   "metadata": {},
   "source": [
    "# Retail Sales Analysis\n",
    "Explore and analyze sales data."
   ]
  },
  {
   "cell_type": "code",
   "metadata": {},
   "source": [
    "import pandas as pd\n",
    "import matplotlib.pyplot as plt\n",
    "\n",
    "# Load Data\n",
    "df = pd.read_csv('../data/sales.csv')\n",
    "df['Date'] = pd.to_datetime(df['Date'])\n",
    "df.head()"
   ],
   "execution_count": 1,
   "outputs": []
  },
  {
   "cell_type": "code",
   "metadata": {},
   "source": [
    "# Sales Over Time\n",
    "sales_over_time = df.groupby('Date')['Units_Sold'].sum()\n",
    "plt.figure(figsize=(8,4))\n",
    "sales_over_time.plot()\n",
    "plt.title('Units Sold Over Time')\n",
    "plt.xlabel('Date')\n",
    "plt.ylabel('Units Sold')\n",
    "plt.show()"
   ],
   "execution_count": 2,
   "outputs": []
  },
  {
   "cell_type": "code",
   "metadata": {},
   "source": [
    "# Top Products\n",
    "top_products = df.groupby('Product')['Units_Sold'].sum().sort_values(ascending=False)\n",
    "print(top_products)"
   ],
   "execution_count": 3,
   "outputs": []
  }
 ],
 "metadata": {
  "kernelspec": {
   "display_name": "Python 3",
   "language": "python",
   "name": "python3"
  },
  "language_info": {
   "name": "python",
   "version": "3.8"
  }
 },
 "nbformat": 4,
 "nbformat_minor": 4
}